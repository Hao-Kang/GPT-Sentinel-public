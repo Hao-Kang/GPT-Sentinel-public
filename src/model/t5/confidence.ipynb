{
 "cells": [
  {
   "cell_type": "code",
   "execution_count": 1,
   "metadata": {},
   "outputs": [
    {
     "data": {
      "text/plain": [
       "<All keys matched successfully>"
      ]
     },
     "execution_count": 1,
     "metadata": {},
     "output_type": "execute_result"
    }
   ],
   "source": [
    "import torch\n",
    "import torch.nn as nn\n",
    "import torch.nn.functional as F\n",
    "from transformers import AutoTokenizer, T5ForConditionalGeneration\n",
    "import settings as settings\n",
    "from typing import Tuple, Optional\n",
    "import torch\n",
    "import os, logging\n",
    "from pathlib import Path\n",
    "\n",
    "\n",
    "class Sentinel(nn.Module):\n",
    "    def __init__(self) -> None:\n",
    "        super().__init__()\n",
    "        self.t5_eos = settings.t5_eos_str\n",
    "        self.t5_model = T5ForConditionalGeneration.from_pretrained(**settings.sentinel['t5_model'])\n",
    "        self.t5_tokenizer = AutoTokenizer.from_pretrained(**settings.sentinel['t5_tokenizer'])\n",
    "\n",
    "    def forward(self, text: Tuple[str], label: Optional[Tuple[int]]):\n",
    "        # encode (text, label)\n",
    "        t5_text = self.t5_tokenizer.batch_encode_plus(text, **settings.sentinel['t5_tokenizer_text'])\n",
    "        t5_text = t5_text.input_ids.to(settings.device)\n",
    "        t5_label = self.t5_tokenizer.batch_encode_plus(label, **settings.sentinel['t5_tokenizer_label'])\n",
    "        t5_label = t5_label.input_ids.to(settings.device)\n",
    "\n",
    "        if self.training:\n",
    "            t5_output = self.t5_model.forward(input_ids=t5_text, labels=t5_label)\n",
    "            t5_loss, t5_logits = t5_output.loss, t5_output.logits\n",
    "            t5_accuracy = torch.sum(\n",
    "                torch.argmax(\n",
    "                    F.softmax(t5_logits[:, 0, :], dim=-1), dim=-1\n",
    "                ) == t5_label[:, 0]\n",
    "            ) / settings.dataloader['train']['batch_size']\n",
    "            return t5_loss, t5_accuracy\n",
    "        else:\n",
    "            t5_output = self.t5_model.generate(input_ids=t5_text, max_length=2, output_scores=True, return_dict_in_generate=True)\n",
    "            t5_scores = t5_output.scores\n",
    "            t5_accuracy = torch.sum(\n",
    "                torch.argmax(\n",
    "                    F.softmax(t5_scores[0], dim=-1), dim=-1\n",
    "                ) == t5_label[:, 0]\n",
    "            ) / settings.dataloader['valid']['batch_size']\n",
    "            return t5_accuracy\n",
    "\n",
    "\n",
    "##############################################################################\n",
    "# Experiment\n",
    "##############################################################################\n",
    "\n",
    "debug  = False\n",
    "resume = False\n",
    "\n",
    "id = \"t5.small.0424.d\"\n",
    "logger = logging.getLogger(id)\n",
    "device = \"cuda\" if torch.cuda.is_available() else \"cpu\"\n",
    "\n",
    "##############################################################################\n",
    "# Hyperparameters\n",
    "##############################################################################\n",
    "\n",
    "epochIter = 10\n",
    "batchSize = 64\n",
    "learnRate = 5e-5\n",
    "weigthDecay = 1e-3\n",
    "\n",
    "optimizer = dict(\n",
    "    lr=learnRate,\n",
    "    weight_decay=weigthDecay,\n",
    ")\n",
    "\n",
    "\n",
    "##############################################################################\n",
    "# Model\n",
    "##############################################################################\n",
    "\n",
    "sentinel = dict(\n",
    "    t5_model=dict(\n",
    "        pretrained_model_name_or_path=\"t5-small\",\n",
    "    ),\n",
    "    t5_tokenizer=dict(\n",
    "        pretrained_model_name_or_path=\"t5-small\", \n",
    "        model_max_length=512,\n",
    "        return_tensors=\"pt\",\n",
    "    ),\n",
    "    t5_tokenizer_text = dict(\n",
    "        max_length=512, \n",
    "        truncation=True,\n",
    "        return_tensors=\"pt\",\n",
    "        padding=\"max_length\",\n",
    "    ),\n",
    "    t5_tokenizer_label = dict(\n",
    "        max_length=2, \n",
    "        truncation=True,\n",
    "        return_tensors=\"pt\",\n",
    "    ),\n",
    ")\n",
    "\n",
    "##############################################################################\n",
    "# Dataset\n",
    "##############################################################################\n",
    "\n",
    "t5_eos_str = \"</s>\"\n",
    "t5_positive_token = 1465    # tokenizer.encode(\"positive\")\n",
    "t5_negative_token = 2841    # tokenizer.encode(\"negative\")\n",
    "\n",
    "dataset = dict(\n",
    "    web_folder=Path(Path.home(), \"GPT-Sentinel/data/open-web-text-split\"),\n",
    "    gpt_folder=Path(Path.home(), \"GPT-Sentinel/data/open-gpt-text-split\"),\n",
    ")\n",
    "\n",
    "dataloader = dict(\n",
    "    train = dict(\n",
    "        batch_size=32, shuffle=True, \n",
    "        num_workers=min(8, os.cpu_count()),\n",
    "    ),\n",
    "    valid = dict(\n",
    "        batch_size=64, shuffle=True, \n",
    "        num_workers=min(8, os.cpu_count()),\n",
    "    ),\n",
    "    test = dict(\n",
    "        batch_size=64, shuffle=True,\n",
    "        num_workers=min(8, os.cpu_count()),\n",
    "    )\n",
    ")\n",
    "identifier = \"t5.small.0424.d\"\n",
    "directory = Path(f\"./storage/{identifier}\")\n",
    "\n",
    "model = Sentinel().to(\"cuda\")\n",
    "state = torch.load(Path(directory, \"state.pt\"))\n",
    "model.load_state_dict(state[\"model\"])"
   ]
  },
  {
   "cell_type": "code",
   "execution_count": 4,
   "metadata": {},
   "outputs": [
    {
     "data": {
      "text/plain": [
       "{'batch_size': 64, 'shuffle': True, 'num_workers': 8}"
      ]
     },
     "execution_count": 4,
     "metadata": {},
     "output_type": "execute_result"
    }
   ],
   "source": [
    "dataloader.get(\"valid\")"
   ]
  },
  {
   "cell_type": "code",
   "execution_count": 3,
   "metadata": {},
   "outputs": [
    {
     "ename": "ValueError",
     "evalue": "too many values to unpack (expected 2)",
     "output_type": "error",
     "traceback": [
      "\u001b[0;31m---------------------------------------------------------------------------\u001b[0m",
      "\u001b[0;31mValueError\u001b[0m                                Traceback (most recent call last)",
      "Cell \u001b[0;32mIn[3], line 1\u001b[0m\n\u001b[0;32m----> 1\u001b[0m text, label \u001b[39m=\u001b[39m \u001b[39mnext\u001b[39m(\u001b[39miter\u001b[39m(dataloader\u001b[39m.\u001b[39mget(\u001b[39m\"\u001b[39m\u001b[39mvalid\u001b[39m\u001b[39m\"\u001b[39m)))\n",
      "\u001b[0;31mValueError\u001b[0m: too many values to unpack (expected 2)"
     ]
    }
   ],
   "source": [
    "text, label = next(iter())"
   ]
  }
 ],
 "metadata": {
  "kernelspec": {
   "display_name": "Python 3",
   "language": "python",
   "name": "python3"
  },
  "language_info": {
   "codemirror_mode": {
    "name": "ipython",
    "version": 3
   },
   "file_extension": ".py",
   "mimetype": "text/x-python",
   "name": "python",
   "nbconvert_exporter": "python",
   "pygments_lexer": "ipython3",
   "version": "3.8.10"
  },
  "orig_nbformat": 4
 },
 "nbformat": 4,
 "nbformat_minor": 2
}
