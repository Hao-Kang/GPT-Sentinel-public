{
 "cells": [
  {
   "cell_type": "markdown",
   "metadata": {
    "collapsed": false
   },
   "source": [
    "# RoBERTa Base GPT2 Detector (on GPT2)\n",
    "\n",
    "Running on GPT2 Output Dataset, trying to reproduce the result of OpenAI."
   ]
  },
  {
   "cell_type": "markdown",
   "metadata": {
    "collapsed": false
   },
   "source": [
    "## Configuration\n",
    "\n",
    "Setup parameters for the notebook"
   ]
  },
  {
   "cell_type": "code",
   "execution_count": 1,
   "metadata": {
    "ExecuteTime": {
     "end_time": "2023-04-15T00:48:52.854837Z",
     "start_time": "2023-04-15T00:48:52.852831Z"
    },
    "collapsed": false
   },
   "outputs": [
    {
     "name": "stdout",
     "output_type": "stream",
     "text": [
      "d:\\Git-Project\\GPT-Sentinel\n",
      "d:\\Git-Project\\GPT-Sentinel\\src\\model\\baseline\n"
     ]
    }
   ],
   "source": [
    "from pathlib import Path\n",
    "\n",
    "projectDirectory = Path(Path.cwd().parent.parent.parent)\n",
    "detectorDirectory = Path.cwd()\n",
    "dataDirectory = Path(projectDirectory, \"data\", \"GPT2-Output\")\n",
    "\n",
    "config = {\n",
    "    \"BatchSize\": 8\n",
    "}\n",
    "\n",
    "print(projectDirectory)\n",
    "print(detectorDirectory)"
   ]
  },
  {
   "cell_type": "markdown",
   "metadata": {
    "collapsed": false
   },
   "source": [
    "## Setup\n",
    "\n",
    "Download the trained model from OpenAI, prepare all components required to run the model\n",
    "\n",
    "**Note**: According to https://github.com/openai/gpt-2-output-dataset/issues/28, it is required to use\n",
    "* `transformers == 2.9.1`\n",
    "* `tokenizers == 0.7.0`\n",
    "\n",
    "> WARNING: to install these two specific version, you MUST have your python as version of 3.8\n",
    ">\n",
    "> Because\n",
    "> 1. pip does not have pre-compiled wheel for tokenizers v0.7.0 for python 3.9+\n",
    "> 2. to compile tokenizer, you need to download rust compiler\n",
    "> 3. tokenizer 0.7.0's Rust source code is using deprecated feature in Rust language, which is NOT supported (error, not warning) by latest rust compiler\n",
    "> 4. So you can't install tokenizer 0.7.0 on the environment if you are not using python 3.8\n",
    "\n",
    "\n",
    "to make things work. Installing later versions of transformer leads to error in loading weight file."
   ]
  },
  {
   "cell_type": "code",
   "execution_count": 2,
   "metadata": {
    "ExecuteTime": {
     "end_time": "2023-04-15T00:49:01.881659Z",
     "start_time": "2023-04-15T00:48:52.853837Z"
    },
    "collapsed": false
   },
   "outputs": [
    {
     "data": {
      "text/plain": [
       "RobertaForSequenceClassification(\n",
       "  (roberta): RobertaModel(\n",
       "    (embeddings): RobertaEmbeddings(\n",
       "      (word_embeddings): Embedding(50265, 768, padding_idx=1)\n",
       "      (position_embeddings): Embedding(514, 768, padding_idx=1)\n",
       "      (token_type_embeddings): Embedding(1, 768)\n",
       "      (LayerNorm): LayerNorm((768,), eps=1e-05, elementwise_affine=True)\n",
       "      (dropout): Dropout(p=0.1, inplace=False)\n",
       "    )\n",
       "    (encoder): BertEncoder(\n",
       "      (layer): ModuleList(\n",
       "        (0-11): 12 x BertLayer(\n",
       "          (attention): BertAttention(\n",
       "            (self): BertSelfAttention(\n",
       "              (query): Linear(in_features=768, out_features=768, bias=True)\n",
       "              (key): Linear(in_features=768, out_features=768, bias=True)\n",
       "              (value): Linear(in_features=768, out_features=768, bias=True)\n",
       "              (dropout): Dropout(p=0.1, inplace=False)\n",
       "            )\n",
       "            (output): BertSelfOutput(\n",
       "              (dense): Linear(in_features=768, out_features=768, bias=True)\n",
       "              (LayerNorm): LayerNorm((768,), eps=1e-05, elementwise_affine=True)\n",
       "              (dropout): Dropout(p=0.1, inplace=False)\n",
       "            )\n",
       "          )\n",
       "          (intermediate): BertIntermediate(\n",
       "            (dense): Linear(in_features=768, out_features=3072, bias=True)\n",
       "          )\n",
       "          (output): BertOutput(\n",
       "            (dense): Linear(in_features=3072, out_features=768, bias=True)\n",
       "            (LayerNorm): LayerNorm((768,), eps=1e-05, elementwise_affine=True)\n",
       "            (dropout): Dropout(p=0.1, inplace=False)\n",
       "          )\n",
       "        )\n",
       "      )\n",
       "    )\n",
       "    (pooler): BertPooler(\n",
       "      (dense): Linear(in_features=768, out_features=768, bias=True)\n",
       "      (activation): Tanh()\n",
       "    )\n",
       "  )\n",
       "  (classifier): RobertaClassificationHead(\n",
       "    (dense): Linear(in_features=768, out_features=768, bias=True)\n",
       "    (dropout): Dropout(p=0.1, inplace=False)\n",
       "    (out_proj): Linear(in_features=768, out_features=2, bias=True)\n",
       "  )\n",
       ")"
      ]
     },
     "execution_count": 2,
     "metadata": {},
     "output_type": "execute_result"
    }
   ],
   "source": [
    "import torch\n",
    "import subprocess\n",
    "\n",
    "from transformers import RobertaForSequenceClassification, RobertaTokenizer\n",
    "state_path = Path(projectDirectory, \"result\", \"cache\", \"detector-base.pt\")\n",
    "if not state_path.is_file():\n",
    "    subprocess.run([\"wget\", \"https://openaipublic.azureedge.net/gpt-2/detector-models/v1/detector-base.pt\"])\n",
    "\n",
    "state = torch.load(state_path)\n",
    "model = RobertaForSequenceClassification.from_pretrained(\"roberta-base\")\n",
    "tokenizer = RobertaTokenizer.from_pretrained(\"roberta-base\", truncation=True, max_length=510)\n",
    "\n",
    "model.load_state_dict(state[\"model_state_dict\"])\n",
    "model.to(\"cuda\")"
   ]
  },
  {
   "cell_type": "markdown",
   "metadata": {
    "collapsed": false
   },
   "source": [
    "## Download GPT-2 Output Dataset for Test\n",
    "\n",
    "Following code from https://github.com/openai/gpt-2-output-dataset/blob/master/download_dataset.py\n",
    "\n",
    "We will download small dataset from OpenAI"
   ]
  },
  {
   "cell_type": "code",
   "execution_count": 3,
   "metadata": {
    "ExecuteTime": {
     "end_time": "2023-04-15T00:49:01.894410Z",
     "start_time": "2023-04-15T00:49:01.880711Z"
    },
    "collapsed": false
   },
   "outputs": [
    {
     "name": "stdout",
     "output_type": "stream",
     "text": [
      "Dataset already downloaded.\n"
     ]
    }
   ],
   "source": [
    "import os\n",
    "import requests\n",
    "from tqdm import tqdm\n",
    "\n",
    "if not dataDirectory.exists():\n",
    "    os.makedirs(dataDirectory)\n",
    "\n",
    "file_paths = [\n",
    "    Path(dataDirectory, \"small-117M.test.jsonl\"),\n",
    "    Path(dataDirectory, \"small-117M-k40.test.jsonl\"),\n",
    "    Path(dataDirectory, \"webtext.test.jsonl\"),\n",
    "]\n",
    "\n",
    "is_downloaded = all([p.exists() for p in file_paths])\n",
    "if is_downloaded: print(\"Dataset already downloaded.\")"
   ]
  },
  {
   "cell_type": "code",
   "execution_count": 4,
   "metadata": {
    "ExecuteTime": {
     "end_time": "2023-04-15T00:49:01.972416Z",
     "start_time": "2023-04-15T00:49:01.894410Z"
    },
    "collapsed": false
   },
   "outputs": [
    {
     "name": "stdout",
     "output_type": "stream",
     "text": [
      "Dataset already downloaded, this block is skipped.\n"
     ]
    }
   ],
   "source": [
    "if not is_downloaded:\n",
    "    for ds in ['webtext', 'small-117M',  'small-117M-k40',\n",
    "               'medium-345M', 'medium-345M-k40',\n",
    "               'large-762M',  'large-762M-k40',\n",
    "               'xl-1542M',    'xl-1542M-k40']:\n",
    "        for split in ['test']:\n",
    "            filename = ds + \".\" + split + '.jsonl'\n",
    "            r = requests.get(\"https://openaipublic.azureedge.net/gpt-2/output-dataset/v1/\" + filename, stream=True)\n",
    "\n",
    "            with open(os.path.join(dataDirectory, filename), 'wb') as f:\n",
    "                file_size = int(r.headers[\"content-length\"])\n",
    "                chunk_size = 1000\n",
    "                with tqdm(ncols=100, desc=\"Fetching \" + filename, total=file_size, unit_scale=True) as pbar:\n",
    "                    # 1k for chunk_size, since Ethernet packet size is around 1500 bytes\n",
    "                    for chunk in r.iter_content(chunk_size=chunk_size):\n",
    "                        f.write(chunk)\n",
    "                        pbar.update(chunk_size)\n",
    "else:\n",
    "    print(\"Dataset already downloaded, this block is skipped.\")"
   ]
  },
  {
   "cell_type": "markdown",
   "metadata": {
    "collapsed": false
   },
   "source": [
    "## Define Dataset and Dataloader\n",
    "\n",
    "Define dataset and dataloader for the GPT2-output dataset."
   ]
  },
  {
   "cell_type": "code",
   "execution_count": 5,
   "metadata": {
    "ExecuteTime": {
     "end_time": "2023-04-15T00:49:01.972416Z",
     "start_time": "2023-04-15T00:49:01.927535Z"
    },
    "collapsed": false
   },
   "outputs": [],
   "source": [
    "import torch.utils.data\n",
    "import json\n",
    "\n",
    "\n",
    "class GPT2_OutputDataset(torch.utils.data.Dataset):\n",
    "    def __init__(self, gpt_jsonl_path: Path, human_jsonl_path: Path):\n",
    "        super().__init__()\n",
    "        assert gpt_jsonl_path.exists()\n",
    "        assert human_jsonl_path.exists()\n",
    "\n",
    "        with open(human_jsonl_path, \"r\") as f:\n",
    "            human_texts = [json.loads(line) for line in tqdm(f.read().strip().splitlines(), desc=\"Loading Human text\", ncols=100)]\n",
    "\n",
    "        with open(gpt_jsonl_path, \"r\") as f:\n",
    "            gpt_texts = [json.loads(line) for line in tqdm(f.read().strip().splitlines(), desc=\"Loading GPT text\", ncols=100)]\n",
    "\n",
    "        # We need to sanitize the dataset since some of them are invalid (e.g. #255123 in small-117M.test.jsonl is empty)\n",
    "        gpt_texts = [entity for entity in gpt_texts if len(entity[\"text\"]) > 0]\n",
    "        human_texts = [entity for entity in human_texts if len(entity[\"text\"]) > 0]\n",
    "\n",
    "        self.human_dict = {human_text[\"id\"] : human_text for human_text in human_texts}\n",
    "        self.gpt_dict = {gpt_text[\"id\"]: gpt_text for gpt_text in gpt_texts}\n",
    "\n",
    "        self.data = [(human_text, 0) for human_text in human_texts] + [(gpt_text, 1) for gpt_text in gpt_texts]\n",
    "        self.length = len(self.data)\n",
    "        print(\"<All data loaded>\")\n",
    "\n",
    "    def __len__(self):\n",
    "        return self.length\n",
    "\n",
    "    def __getitem__(self, index):\n",
    "        entry =  self.data[index]\n",
    "        return entry[0][\"text\"], entry[1]\n",
    "\n",
    "    def retrieve_id(self, text_id):\n",
    "        assert text_id in self.human_dict\n",
    "        assert text_id in self.gpt_dict\n",
    "        return self.human_dict[text_id][\"text\"], self.gpt_dict[text_id][\"text\"]\n"
   ]
  },
  {
   "cell_type": "code",
   "execution_count": 6,
   "metadata": {
    "ExecuteTime": {
     "end_time": "2023-04-15T00:49:03.045502Z",
     "start_time": "2023-04-15T00:49:01.931536Z"
    },
    "collapsed": false
   },
   "outputs": [
    {
     "name": "stderr",
     "output_type": "stream",
     "text": [
      "Loading Human text: 100%|████████████████████████████████████| 5000/5000 [00:00<00:00, 88879.70it/s]\n",
      "Loading GPT text: 100%|██████████████████████████████████████| 5000/5000 [00:00<00:00, 51406.58it/s]\n"
     ]
    },
    {
     "name": "stdout",
     "output_type": "stream",
     "text": [
      "<All data loaded>\n"
     ]
    },
    {
     "name": "stderr",
     "output_type": "stream",
     "text": [
      "Loading Human text: 100%|████████████████████████████████████| 5000/5000 [00:00<00:00, 87746.58it/s]\n",
      "Loading GPT text: 100%|██████████████████████████████████████| 5000/5000 [00:00<00:00, 43451.32it/s]\n"
     ]
    },
    {
     "name": "stdout",
     "output_type": "stream",
     "text": [
      "<All data loaded>\n"
     ]
    },
    {
     "name": "stderr",
     "output_type": "stream",
     "text": [
      "Loading Human text: 100%|████████████████████████████████████| 5000/5000 [00:00<00:00, 66157.26it/s]\n",
      "Loading GPT text: 100%|██████████████████████████████████████| 5000/5000 [00:00<00:00, 53293.89it/s]\n"
     ]
    },
    {
     "name": "stdout",
     "output_type": "stream",
     "text": [
      "<All data loaded>\n"
     ]
    },
    {
     "name": "stderr",
     "output_type": "stream",
     "text": [
      "Loading Human text: 100%|████████████████████████████████████| 5000/5000 [00:00<00:00, 50520.39it/s]\n",
      "Loading GPT text: 100%|██████████████████████████████████████| 5000/5000 [00:00<00:00, 48244.88it/s]"
     ]
    },
    {
     "name": "stdout",
     "output_type": "stream",
     "text": [
      "<All data loaded>\n"
     ]
    },
    {
     "name": "stderr",
     "output_type": "stream",
     "text": [
      "\n"
     ]
    }
   ],
   "source": [
    "small_dataset_rand = GPT2_OutputDataset(\n",
    "    Path(dataDirectory, \"small-117M.test.jsonl\"),\n",
    "    Path(dataDirectory, \"webtext.test.jsonl\")\n",
    ")\n",
    "\n",
    "medium_dataset_rand = GPT2_OutputDataset(\n",
    "    Path(dataDirectory, \"medium-345M.test.jsonl\"),\n",
    "    Path(dataDirectory, \"webtext.test.jsonl\")\n",
    ")\n",
    "\n",
    "large_dataset_rand = GPT2_OutputDataset(\n",
    "    Path(dataDirectory, \"large-762M.test.jsonl\"),\n",
    "    Path(dataDirectory, \"webtext.test.jsonl\")\n",
    ")\n",
    "\n",
    "extra_large_dataset_rand = GPT2_OutputDataset(\n",
    "    Path(dataDirectory, \"xl-1542M.test.jsonl\"),\n",
    "    Path(dataDirectory, \"webtext.test.jsonl\")\n",
    ")"
   ]
  },
  {
   "cell_type": "markdown",
   "metadata": {
    "collapsed": false
   },
   "source": [
    "## Evaluation (1) - Random Sampling Strategy\n",
    "\n",
    "Run test on GPT2 pretrained model, see the test accuaracy"
   ]
  },
  {
   "cell_type": "code",
   "execution_count": 7,
   "metadata": {
    "ExecuteTime": {
     "end_time": "2023-04-15T00:49:03.054893Z",
     "start_time": "2023-04-15T00:49:03.050520Z"
    },
    "collapsed": false
   },
   "outputs": [],
   "source": [
    "def test(testDataset: torch.utils.data.Dataset):\n",
    "    realReal, falseReal, realFake, falseFake = 0, 0, 0, 0\n",
    "    progressBar = tqdm(total=len(testDataset), desc=\"Test\", ncols=100)\n",
    "\n",
    "    for i, (text, label) in enumerate(testDataset):\n",
    "        # encode\n",
    "        tokens = tokenizer.encode(text, max_length=512)\n",
    "        tokens = tokens[:tokenizer.max_len - 2]\n",
    "        tokens = torch.tensor([tokenizer.bos_token_id] + tokens + [tokenizer.eos_token_id]).unsqueeze(0)\n",
    "        mask = torch.ones_like(tokens)\n",
    "\n",
    "        # forward propagation\n",
    "        with torch.no_grad():\n",
    "            logits = model(tokens.to(\"cuda\"), attention_mask=mask.to(\"cuda\"))[0]\n",
    "            probs = logits.softmax(dim=-1)\n",
    "\n",
    "        # update statistics\n",
    "        fake, real = probs.detach().cpu().flatten().numpy().tolist()\n",
    "\n",
    "        true_label = \"real\" if label == 0 else \"fake\"\n",
    "        pred_label = \"real\" if real > fake else \"fake\"\n",
    "\n",
    "        if true_label == \"real\" and pred_label == \"real\":\n",
    "            realReal += 1\n",
    "        elif true_label == \"real\" and pred_label == \"fake\":\n",
    "            falseFake += 1\n",
    "        elif true_label == \"fake\" and pred_label == \"real\":\n",
    "            falseReal += 1\n",
    "        elif true_label == \"fake\" and pred_label == \"fake\":\n",
    "            realFake += 1\n",
    "\n",
    "        # update progress\n",
    "        progressBar.set_postfix(accuracy=\"{0:.4%}\".format((realReal + realFake) / (i + 1)))\n",
    "        progressBar.update()\n",
    "\n",
    "    return realReal, falseFake, falseReal, realFake\n"
   ]
  },
  {
   "cell_type": "code",
   "execution_count": 8,
   "metadata": {
    "ExecuteTime": {
     "end_time": "2023-04-15T01:04:06.305945Z",
     "start_time": "2023-04-15T00:49:03.053527Z"
    },
    "collapsed": false
   },
   "outputs": [
    {
     "name": "stderr",
     "output_type": "stream",
     "text": [
      "Test: 100%|██████████████████████████████████| 9989/9989 [04:40<00:00, 35.67it/s, accuracy=96.2258%]\n",
      "Test: 100%|████████████████████████████████| 10000/10000 [04:46<00:00, 34.93it/s, accuracy=95.6700%]\n",
      "Test: 100%|████████████████████████████████| 10000/10000 [04:34<00:00, 36.40it/s, accuracy=94.4900%]\n",
      "Test: 100%|████████████████████████████████| 10000/10000 [04:32<00:00, 36.71it/s, accuracy=93.1000%]\n"
     ]
    }
   ],
   "source": [
    "confusion_matrix_cache_path = Path(projectDirectory, \"result\", \"cache\", \"baseline_test_gpt2_random_sample.json\")\n",
    "if confusion_matrix_cache_path.exists():\n",
    "    with open(confusion_matrix_cache_path, \"r\") as f:\n",
    "        confusion_matrices_rand = json.load(f)\n",
    "else:\n",
    "    confusion_matrices_rand = {\n",
    "        \"small\": test(small_dataset_rand),\n",
    "        \"medium\": test(medium_dataset_rand),\n",
    "        \"large\": test(large_dataset_rand),\n",
    "        \"extra_large\": test(extra_large_dataset_rand)\n",
    "    }\n",
    "    with open(confusion_matrix_cache_path, \"w\") as f:\n",
    "        json.dump(confusion_matrices_rand, f)"
   ]
  },
  {
   "cell_type": "markdown",
   "metadata": {
    "collapsed": false
   },
   "source": [
    "### Analysis and Visualization\n",
    "\n",
    "Here, we want to plot the confusion matrix of each classification result and find the trend of accuracy as the number of argument increases"
   ]
  },
  {
   "cell_type": "code",
   "execution_count": null,
   "metadata": {
    "ExecuteTime": {
     "end_time": "2023-04-15T01:04:06.306979Z",
     "start_time": "2023-04-15T01:04:05.876017Z"
    },
    "collapsed": false
   },
   "outputs": [],
   "source": [
    "import matplotlib.pyplot as plt\n",
    "import numpy as np\n",
    "\n",
    "def confusion_matrix(tp, fn, fp, tn, title=\"\"):\n",
    "    plt.figure(dpi=200)\n",
    "    plt.imshow(np.array([[tp, fn], [fp, tn]]), cmap=plt.cm.Blues, interpolation='nearest')\n",
    "    plt.colorbar()\n",
    "    plt.clim(0, 5000)\n",
    "    plt.title(title)\n",
    "    plt.xticks([0, 1], ['Real', 'Generated'])\n",
    "    plt.yticks([0, 1], ['Real', 'Generated'])\n",
    "    # put values in the boxes\n",
    "    for i in range(2):\n",
    "        for j in range(2):\n",
    "            plt.text(j, i, format(np.array([[tp, fn], [fp, tn]])[i, j], 'd'),\n",
    "                     horizontalalignment=\"center\",\n",
    "                     color=\"white\" if np.array([[tp, fn], [fp, tn]])[i, j] > (tp + tn + fp + fn) / 3 else \"black\")\n",
    "    plt.xlabel('Predicted')\n",
    "    plt.ylabel('Actual')\n",
    "    plt.show()"
   ]
  },
  {
   "cell_type": "code",
   "execution_count": null,
   "metadata": {
    "ExecuteTime": {
     "end_time": "2023-04-15T01:04:06.815096Z",
     "start_time": "2023-04-15T01:04:06.148395Z"
    },
    "collapsed": false
   },
   "outputs": [],
   "source": [
    "confusion_matrix(*confusion_matrices_rand[\"small\"], \"Confusion Matrix for GPT2 Detector on GPT2-output test dataset\\n small (117M) model with random sampling method\")"
   ]
  },
  {
   "cell_type": "code",
   "execution_count": null,
   "metadata": {
    "ExecuteTime": {
     "end_time": "2023-04-15T01:04:06.816098Z",
     "start_time": "2023-04-15T01:04:06.349631Z"
    },
    "collapsed": false
   },
   "outputs": [],
   "source": [
    "confusion_matrix(*confusion_matrices_rand[\"medium\"], \"Confusion Matrix for GPT2 Detector on GPT2-output test dataset\\n medium (345M) model with random sampling method\")"
   ]
  },
  {
   "cell_type": "code",
   "execution_count": null,
   "metadata": {
    "ExecuteTime": {
     "end_time": "2023-04-15T01:04:06.816098Z",
     "start_time": "2023-04-15T01:04:06.536981Z"
    },
    "collapsed": false
   },
   "outputs": [],
   "source": [
    "confusion_matrix(*confusion_matrices_rand[\"large\"], \"Confusion Matrix for GPT2 Detector on GPT2-output test dataset\\n large (762M) model with random sampling method\")"
   ]
  },
  {
   "cell_type": "code",
   "execution_count": null,
   "metadata": {
    "ExecuteTime": {
     "end_time": "2023-04-15T01:04:07.348920Z",
     "start_time": "2023-04-15T01:04:06.732780Z"
    },
    "collapsed": false
   },
   "outputs": [],
   "source": [
    "confusion_matrix(*confusion_matrices_rand[\"extra_large\"], \"Confusion Matrix for GPT2 Detector on GPT2-output test dataset\\n extra large (1542M) model with random sampling method\")"
   ]
  },
  {
   "cell_type": "code",
   "execution_count": null,
   "metadata": {
    "ExecuteTime": {
     "end_time": "2023-04-15T01:04:27.042457Z",
     "start_time": "2023-04-15T01:04:26.973988Z"
    },
    "collapsed": false
   },
   "outputs": [],
   "source": [
    "# Combined confusion matrix\n",
    "def combined_confusion_mat(confusion_matrices, output):\n",
    "    figs, axes = plt.subplots(nrows=2, ncols=2, dpi=200)\n",
    "    for i, key in enumerate([\"small\", \"medium\", \"large\", \"extra_large\"]):\n",
    "        ax: plt.Axes = axes.flat[i]\n",
    "        tp, fn, fp, tn = confusion_matrices[key]\n",
    "        im = ax.imshow(np.array([[tp, fn], [fp, tn]]), cmap=plt.cm.Blues, interpolation='nearest', vmin=0, vmax=5000)\n",
    "        ax.set_xticks([0, 1], ['Real', 'Generated'])\n",
    "        ax.set_yticks([0, 1], ['Real', 'Generated'])\n",
    "        # put values in the boxes\n",
    "        for i in range(2):\n",
    "            for j in range(2):\n",
    "                ax.text(j, i, format(np.array([[tp, fn], [fp, tn]])[i, j], 'd'),\n",
    "                         horizontalalignment=\"center\",\n",
    "                         color=\"white\" if np.array([[tp, fn], [fp, tn]])[i, j] > (tp + tn + fp + fn) / 3 else \"black\")\n",
    "        ax.set_xlabel('Predicted')\n",
    "        ax.set_ylabel('Actual')\n",
    "        ax.set_title(key.capitalize() + \" GPT-2 Model\")\n",
    "    cbar_ax = figs.add_axes([1.3, 0.15, 0.05, 1])\n",
    "    figs.colorbar(im, cax=cbar_ax)\n",
    "    # cbar_ax.clim(0, 5000)\n",
    "    figs.subplots_adjust(left=0.1, bottom=0.1, right=1.2, top=1.2, wspace=0.4, hspace=0.4)\n",
    "    plt.show()\n",
    "    figs.savefig(Path(projectDirectory, \"result/figures\", output), bbox_inches = 'tight')"
   ]
  },
  {
   "cell_type": "code",
   "execution_count": null,
   "metadata": {
    "ExecuteTime": {
     "end_time": "2023-04-15T01:04:33.709368Z",
     "start_time": "2023-04-15T01:04:33.108034Z"
    },
    "collapsed": false
   },
   "outputs": [],
   "source": [
    "combined_confusion_mat(confusion_matrices_rand, \"confusion_mat_gpt2_baseline_random_combined.png\")"
   ]
  },
  {
   "cell_type": "markdown",
   "metadata": {
    "collapsed": false
   },
   "source": [
    "Now, draw a plot that concludes the trend of precision and recall rate where x axis is the number of parameters in language model (in Million)"
   ]
  },
  {
   "cell_type": "markdown",
   "metadata": {
    "collapsed": false
   },
   "source": [
    "## Evaluation (2) - K40 Sampling Strategy"
   ]
  },
  {
   "cell_type": "code",
   "execution_count": 10,
   "metadata": {
    "ExecuteTime": {
     "end_time": "2023-04-15T01:04:38.402495Z",
     "start_time": "2023-04-15T01:04:37.343447Z"
    },
    "collapsed": false
   },
   "outputs": [
    {
     "name": "stderr",
     "output_type": "stream",
     "text": [
      "Loading Human text: 100%|████████████████████████████████████| 5000/5000 [00:00<00:00, 83799.60it/s]\n",
      "Loading GPT text: 100%|██████████████████████████████████████| 5000/5000 [00:00<00:00, 85554.39it/s]\n"
     ]
    },
    {
     "name": "stdout",
     "output_type": "stream",
     "text": [
      "<All data loaded>\n"
     ]
    },
    {
     "name": "stderr",
     "output_type": "stream",
     "text": [
      "Loading Human text: 100%|████████████████████████████████████| 5000/5000 [00:00<00:00, 82176.16it/s]\n",
      "Loading GPT text: 100%|██████████████████████████████████████| 5000/5000 [00:00<00:00, 78552.37it/s]\n"
     ]
    },
    {
     "name": "stdout",
     "output_type": "stream",
     "text": [
      "<All data loaded>\n"
     ]
    },
    {
     "name": "stderr",
     "output_type": "stream",
     "text": [
      "Loading Human text: 100%|████████████████████████████████████| 5000/5000 [00:00<00:00, 93143.00it/s]\n",
      "Loading GPT text: 100%|██████████████████████████████████████| 5000/5000 [00:00<00:00, 73573.18it/s]"
     ]
    },
    {
     "name": "stdout",
     "output_type": "stream",
     "text": [
      "<All data loaded>"
     ]
    },
    {
     "name": "stderr",
     "output_type": "stream",
     "text": [
      "\n"
     ]
    },
    {
     "name": "stdout",
     "output_type": "stream",
     "text": [
      "\n"
     ]
    },
    {
     "name": "stderr",
     "output_type": "stream",
     "text": [
      "Loading Human text: 100%|████████████████████████████████████| 5000/5000 [00:00<00:00, 80783.98it/s]\n",
      "Loading GPT text: 100%|██████████████████████████████████████| 5000/5000 [00:00<00:00, 83971.39it/s]"
     ]
    },
    {
     "name": "stdout",
     "output_type": "stream",
     "text": [
      "<All data loaded>\n"
     ]
    },
    {
     "name": "stderr",
     "output_type": "stream",
     "text": [
      "\n"
     ]
    }
   ],
   "source": [
    "small_dataset_topk = GPT2_OutputDataset(\n",
    "    Path(dataDirectory, \"small-117M-k40.test.jsonl\"),\n",
    "    Path(dataDirectory, \"webtext.test.jsonl\")\n",
    ")\n",
    "\n",
    "medium_dataset_topk = GPT2_OutputDataset(\n",
    "    Path(dataDirectory, \"medium-345M-k40.test.jsonl\"),\n",
    "    Path(dataDirectory, \"webtext.test.jsonl\")\n",
    ")\n",
    "\n",
    "large_dataset_topk = GPT2_OutputDataset(\n",
    "    Path(dataDirectory, \"large-762M-k40.test.jsonl\"),\n",
    "    Path(dataDirectory, \"webtext.test.jsonl\")\n",
    ")\n",
    "\n",
    "extra_large_dataset_topk = GPT2_OutputDataset(\n",
    "    Path(dataDirectory, \"xl-1542M-k40.test.jsonl\"),\n",
    "    Path(dataDirectory, \"webtext.test.jsonl\")\n",
    ")"
   ]
  },
  {
   "cell_type": "code",
   "execution_count": 11,
   "metadata": {
    "ExecuteTime": {
     "end_time": "2023-04-15T01:19:12.579909Z",
     "start_time": "2023-04-15T01:04:40.008824Z"
    },
    "collapsed": false
   },
   "outputs": [
    {
     "name": "stderr",
     "output_type": "stream",
     "text": [
      "Test: 100%|████████████████████████████████| 10000/10000 [04:17<00:00, 38.79it/s, accuracy=96.4800%]\n",
      "Test: 100%|████████████████████████████████| 10000/10000 [04:27<00:00, 37.41it/s, accuracy=96.2700%]\n",
      "Test: 100%|████████████████████████████████| 10000/10000 [04:33<00:00, 36.56it/s, accuracy=96.1600%]\n",
      "Test: 100%|████████████████████████████████| 10000/10000 [04:21<00:00, 38.29it/s, accuracy=94.9800%]\n"
     ]
    }
   ],
   "source": [
    "confusion_matrix_cache_path = Path(projectDirectory, \"result\", \"cache\", \"baseline_test_gpt2_k40_sample.json\")\n",
    "if confusion_matrix_cache_path.exists():\n",
    "    with open(confusion_matrix_cache_path, \"r\") as f:\n",
    "        confusion_matrices_topk = json.load(f)\n",
    "else:\n",
    "    confusion_matrices_topk = {\n",
    "        \"small\": test(small_dataset_topk),\n",
    "        \"medium\": test(medium_dataset_topk),\n",
    "        \"large\": test(large_dataset_topk),\n",
    "        \"extra_large\": test(extra_large_dataset_topk)\n",
    "    }\n",
    "    with open(confusion_matrix_cache_path, \"w\") as f:\n",
    "        json.dump(confusion_matrices_topk, f)"
   ]
  },
  {
   "cell_type": "code",
   "execution_count": null,
   "metadata": {
    "ExecuteTime": {
     "end_time": "2023-04-15T01:19:12.758434Z",
     "start_time": "2023-04-15T01:19:12.626948Z"
    },
    "collapsed": false
   },
   "outputs": [],
   "source": [
    "confusion_matrix(*confusion_matrices_topk[\"small\"], \"Confusion Matrix for GPT2 Detector on GPT2-output test dataset\\n small (117M) model with top-k sampling method (k=40)\")"
   ]
  },
  {
   "cell_type": "code",
   "execution_count": null,
   "metadata": {
    "ExecuteTime": {
     "end_time": "2023-04-15T01:19:12.941955Z",
     "start_time": "2023-04-15T01:19:12.842263Z"
    },
    "collapsed": false
   },
   "outputs": [],
   "source": [
    "confusion_matrix(*confusion_matrices_topk[\"medium\"], \"Confusion Matrix for GPT2 Detector on GPT2-output test dataset\\n medium (345M) model with top-k sampling method (k=40)\")"
   ]
  },
  {
   "cell_type": "code",
   "execution_count": null,
   "metadata": {
    "ExecuteTime": {
     "end_time": "2023-04-15T01:19:13.106894Z",
     "start_time": "2023-04-15T01:19:12.984280Z"
    },
    "collapsed": false
   },
   "outputs": [],
   "source": [
    "confusion_matrix(*confusion_matrices_topk[\"large\"], \"Confusion Matrix for GPT2 Detector on GPT2-output test dataset\\n large (762M) model with top-k sampling method (k=40)\")"
   ]
  },
  {
   "cell_type": "code",
   "execution_count": null,
   "metadata": {
    "ExecuteTime": {
     "end_time": "2023-04-15T01:19:13.274429Z",
     "start_time": "2023-04-15T01:19:13.117404Z"
    },
    "collapsed": false
   },
   "outputs": [],
   "source": [
    "confusion_matrix(*confusion_matrices_topk[\"extra_large\"], \"Confusion Matrix for GPT2 Detector on GPT2-output test dataset\\n extra large (1542M) model with top-k sampling method (k=40)\")"
   ]
  },
  {
   "cell_type": "code",
   "execution_count": null,
   "metadata": {
    "ExecuteTime": {
     "end_time": "2023-04-15T01:19:13.865360Z",
     "start_time": "2023-04-15T01:19:13.325335Z"
    },
    "collapsed": false
   },
   "outputs": [],
   "source": [
    "combined_confusion_mat(confusion_matrices_topk, \"confusion_mat_gpt2_baseline_k40_combined.png\")"
   ]
  },
  {
   "cell_type": "markdown",
   "metadata": {
    "collapsed": false
   },
   "source": [
    "### Draw Accuracy curve and False Positive Curve"
   ]
  },
  {
   "cell_type": "code",
   "execution_count": 13,
   "metadata": {
    "collapsed": false
   },
   "outputs": [
    {
     "data": {
      "image/png": "[encoded data removed]",
      "text/plain": [
       "<Figure size 2400x800 with 2 Axes>"
      ]
     },
     "metadata": {},
     "output_type": "display_data"
    }
   ],
   "source": [
    "import matplotlib.pyplot as plt\n",
    "\n",
    "random_sample_mats_path = Path(projectDirectory, \"result\", \"cache\", \"baseline_test_gpt2_random_sample.json\")\n",
    "topk_sample_mats_path = Path(projectDirectory, \"result\", \"cache\", \"baseline_test_gpt2_k40_sample.json\")\n",
    "\n",
    "with open(random_sample_mats_path, \"r\") as f: random_sample_mats = json.load(f)\n",
    "with open(topk_sample_mats_path, \"r\") as f: topk_sample_mats = json.load(f)\n",
    "\n",
    "params = [117, 345, 762, 1542]\n",
    "random_accuracy, random_false_pos = [], []\n",
    "topk_accuracy, topk_false_pos = [], []\n",
    "for key in [\"small\", \"medium\", \"large\", \"extra_large\"]:\n",
    "    # positive - fake (by GPT), negative - real (by human)\n",
    "    tn, fp, fn, tp = random_sample_mats[key]\n",
    "    random_accuracy.append((tp + tn) / (tp + fn + fp + tn))\n",
    "    random_false_pos.append(fn / (tp + fn))\n",
    "    tn, fp, fn, tp = topk_sample_mats[key]\n",
    "    topk_accuracy.append((tp + tn) / (tp + fn + fp + tn))\n",
    "    topk_false_pos.append(fn / (tp + fn))\n",
    "\n",
    "plt.figure(dpi=200, figsize=(12, 4))\n",
    "plt.subplot(121)\n",
    "plt.title(\"Accuracy v.s. #Parameters in GPT2 variants\")\n",
    "plt.plot(params, random_accuracy, label=\"Random Sampling\", marker=\"o\")\n",
    "plt.plot(params, topk_accuracy, label=\"Top-k Sampling (k=40)\", marker=\"^\")\n",
    "for i in range(len(params)):\n",
    "    plt.text(params[i] - 70, random_accuracy[i] - 0.015, str(round(random_accuracy[i], 3)))\n",
    "    plt.text(params[i] - 50, topk_accuracy[i] + 0.01, str(round(topk_accuracy[i], 3)))\n",
    "plt.ylim([0.75, 1])\n",
    "plt.ylabel(\"Accuracy\")\n",
    "plt.xlabel(\"#Parameter in GPT2 variant (Million)\")\n",
    "plt.legend()\n",
    "\n",
    "plt.subplot(122)\n",
    "plt.title(\"False positive rate v.s. #Parameters in GPT2 variants\")\n",
    "plt.plot(params, random_false_pos, label=\"Random Sampling\", marker=\"o\")\n",
    "plt.plot(params, topk_false_pos, label=\"Top-k Sampling (k=40)\", marker=\"^\")\n",
    "for i in range(len(params)):\n",
    "    plt.text(params[i] - 70, topk_false_pos[i] - 0.015, str(round(topk_false_pos[i], 3)))\n",
    "    plt.text(params[i] - 50, random_false_pos[i] + 0.01, str(round(random_false_pos[i], 3)))\n",
    "plt.ylim([0, 0.25])\n",
    "plt.ylabel(\"False Negative Rate\")\n",
    "plt.xlabel(\"#Parameter in GPT2 variant (Million)\")\n",
    "plt.legend()\n",
    "plt.savefig(Path(projectDirectory, \"result\", \"figures\", \"baseline\", \"GPT2_baseline_acc_trend.pdf\"))"
   ]
  },
  {
   "cell_type": "markdown",
   "metadata": {
    "collapsed": false
   },
   "source": [
    "## Abalation Study\n",
    "\n",
    "What is the classifier actually learning?\n",
    "\n",
    "Let's see the final hidden state and do some PCA, etc. to see if we can get some clues."
   ]
  },
  {
   "cell_type": "code",
   "execution_count": null,
   "metadata": {
    "collapsed": false
   },
   "outputs": [],
   "source": [
    "from transformers import RobertaConfig\n",
    "\n",
    "# Modify the config a little to allow it output hidden state\n",
    "\n",
    "original_config: RobertaConfig = model.config\n",
    "original_config.output_hidden_states = True\n",
    "\n",
    "state = torch.load(state_path)\n",
    "h_model = RobertaForSequenceClassification.from_pretrained(\"roberta-base\", config=original_config)\n",
    "tokenizer = RobertaTokenizer.from_pretrained(\"roberta-base\", truncation=True, max_length=510)\n",
    "h_model.load_state_dict(state[\"model_state_dict\"])\n",
    "h_model.config = original_config\n",
    "h_model.to(\"cuda\")"
   ]
  },
  {
   "cell_type": "code",
   "execution_count": null,
   "metadata": {
    "collapsed": false
   },
   "outputs": [],
   "source": [
    "def getHiddenStates(testDataset: GPT2_OutputDataset, indices: np.ndarray):\n",
    "    # progressBar = tqdm(total=len(testDataset), desc=\"Extracting\", ncols=100)\n",
    "    last_hiddens = []\n",
    "    predictions = []\n",
    "    labels = []\n",
    "\n",
    "    for random_index in tqdm(indices, desc=\"Sampling\", ncols=100):\n",
    "        text, label = testDataset[random_index]\n",
    "        # encode\n",
    "        tokens = tokenizer.encode(text, max_length=512)\n",
    "        tokens = tokens[:tokenizer.max_len - 2]\n",
    "        tokens = torch.tensor([tokenizer.bos_token_id] + tokens + [tokenizer.eos_token_id]).unsqueeze(0)\n",
    "        mask = torch.ones_like(tokens)\n",
    "\n",
    "        # forward propagation\n",
    "        with torch.no_grad():\n",
    "            logits, hidden_states = h_model(tokens.to(\"cuda\"), attention_mask=mask.to(\"cuda\"))\n",
    "            probs = logits.softmax(dim=-1)\n",
    "\n",
    "        p_fake, p_real = probs.detach().cpu().flatten().numpy().tolist()\n",
    "        final_hidden_state = hidden_states[-1]\n",
    "        final_hidden_state = final_hidden_state.detach().cpu().numpy()\n",
    "        last_hiddens.append(final_hidden_state)\n",
    "        labels.append(label)\n",
    "        predictions.append(0 if p_real > p_fake else 1)\n",
    "\n",
    "        del hidden_states\n",
    "\n",
    "    return last_hiddens, predictions, labels"
   ]
  },
  {
   "cell_type": "code",
   "execution_count": null,
   "metadata": {
    "collapsed": false
   },
   "outputs": [],
   "source": [
    "import random\n",
    "\n",
    "indices_path       = Path(projectDirectory, \"result\", \"cache\", \"hidden_state_indices.pt\"   )\n",
    "small_hidden_path_topk  = Path(projectDirectory, \"result\", \"cache\", \"small_hidden_state_40k.pt\" )\n",
    "medium_hidden_path_topk = Path(projectDirectory, \"result\", \"cache\", \"medium_hidden_state_40k.pt\")\n",
    "large_hidden_path_topk  = Path(projectDirectory, \"result\", \"cache\", \"large_hidden_state_40k.pt\" )\n",
    "xlarge_hidden_path_topk = Path(projectDirectory, \"result\", \"cache\", \"xlarge_hidden_state_40k.pt\")\n",
    "\n",
    "def normalize_state(h: torch.Tensor):\n",
    "    h_norm = np.pad(h, ((0,0), (0, 512 - h.shape[1]), (0,0)))\n",
    "    return h_norm\n",
    "\n",
    "def calculate_hidden_state(dataset, cache_path, indices_path):\n",
    "    if cache_path.exists():\n",
    "        assert indices_path.exists()\n",
    "        print(\"Using cached data\")\n",
    "        result = torch.load(cache_path)\n",
    "        return result\n",
    "    else:\n",
    "        if not indices_path.exists():\n",
    "            print(\"Generate new data and indices\")\n",
    "            human_indices = random.choices([i for i in range(5000)], k=200)\n",
    "            fake_indices = random.choices([i for i in range(5000, 10000)], k=200)\n",
    "            human_indices.sort()\n",
    "            fake_indices.sort()\n",
    "            torch.save({\"human_indices\": human_indices, \"gpt_indices\": fake_indices}, indices_path)\n",
    "        else:\n",
    "            print(\"Generate new data, using existing indices\")\n",
    "            index_cache = torch.load(indices_path)\n",
    "            human_indices = index_cache[\"human_indices\"]\n",
    "            fake_indices = index_cache[\"gpt_indices\"]\n",
    "\n",
    "        human_outputs = getHiddenStates(dataset, human_indices)\n",
    "        fake_outputs = getHiddenStates(dataset, fake_indices)\n",
    "\n",
    "        real_hidden = [normalize_state(hidden) for hidden in human_outputs[0]]\n",
    "        fake_hidden = [normalize_state(hidden) for hidden in fake_outputs[0]]\n",
    "        real_hidden_mat = np.concatenate(real_hidden, axis=0)\n",
    "        fake_hidden_mat = np.concatenate(fake_hidden, axis=0)\n",
    "        results = {\"real_hidden\": real_hidden_mat, \"fake_hidden\": fake_hidden_mat}\n",
    "        torch.save(results, cache_path)\n",
    "        return results\n"
   ]
  },
  {
   "cell_type": "code",
   "execution_count": null,
   "metadata": {
    "collapsed": false
   },
   "outputs": [],
   "source": [
    "small_result_topk  = calculate_hidden_state(small_dataset_topk , small_hidden_path_topk , indices_path)"
   ]
  },
  {
   "cell_type": "code",
   "execution_count": null,
   "metadata": {
    "collapsed": false
   },
   "outputs": [],
   "source": [
    "medium_result_topk = calculate_hidden_state(medium_dataset_topk, medium_hidden_path_topk, indices_path)"
   ]
  },
  {
   "cell_type": "code",
   "execution_count": null,
   "metadata": {
    "collapsed": false
   },
   "outputs": [],
   "source": [
    "large_result_topk  = calculate_hidden_state(large_dataset_topk , large_hidden_path_topk , indices_path)"
   ]
  },
  {
   "cell_type": "code",
   "execution_count": null,
   "metadata": {
    "collapsed": false
   },
   "outputs": [],
   "source": [
    "xlarge_result_topk = calculate_hidden_state(extra_large_dataset_topk, xlarge_hidden_path_topk, indices_path)"
   ]
  },
  {
   "cell_type": "markdown",
   "metadata": {
    "collapsed": false
   },
   "source": [
    "## Run PCA!\n",
    "\n",
    "### PCA Analysis (1) - K-40 Sampling Evaluation"
   ]
  },
  {
   "cell_type": "code",
   "execution_count": null,
   "metadata": {
    "collapsed": false
   },
   "outputs": [],
   "source": [
    "from sklearn.decomposition import PCA\n",
    "\n",
    "def pca_analysis(result, title=\"\", output=\"\"):\n",
    "    real_hidden: np.ndarray = result[\"real_hidden\"]\n",
    "    fake_hidden: np.ndarray = result[\"fake_hidden\"]\n",
    "    real_hidden = np.reshape(real_hidden, (real_hidden.shape[0], -1))\n",
    "    fake_hidden = np.reshape(fake_hidden, (fake_hidden.shape[0], -1))\n",
    "\n",
    "    if pca_analysis.core == None:\n",
    "        pca_analysis.core = PCA(n_components=2)\n",
    "        pca_analysis.core.fit(np.concatenate([real_hidden, fake_hidden], axis=0))\n",
    "\n",
    "    small_real_pca = pca_analysis.core.transform(real_hidden)\n",
    "    small_fake_pca = pca_analysis.core.transform(fake_hidden)\n",
    "\n",
    "    plt.figure(dpi=200)\n",
    "    plt.xlim(-500, 500)\n",
    "    plt.ylim(-500, 500)\n",
    "    plt.title(title)\n",
    "    plt.scatter(small_real_pca[:, 0], small_real_pca[:, 1], label=\"Human Generated Text\", s=3)\n",
    "    plt.scatter(small_fake_pca[:, 0], small_fake_pca[:, 1], label=\"GPT2 Generated Text\" , s=3)\n",
    "    plt.legend()\n",
    "    plt.savefig(Path(projectDirectory, \"results/figures\", output))\n",
    "\n",
    "setattr(pca_analysis, \"core\", None)"
   ]
  },
  {
   "cell_type": "code",
   "execution_count": null,
   "metadata": {
    "collapsed": false
   },
   "outputs": [],
   "source": [
    "pca_analysis(\n",
    "    small_result_topk,\n",
    "    title=\"PCA projection of feature vector in last hidden layer\\nSmall GPT-2 variation (117M), top-k sampling (k=40)\",\n",
    "    output=\"pca_projection_gpt2_baseline_small_k40_sample.png\"\n",
    ")"
   ]
  },
  {
   "cell_type": "code",
   "execution_count": null,
   "metadata": {
    "collapsed": false
   },
   "outputs": [],
   "source": [
    "pca_analysis(\n",
    "    medium_result_topk,\n",
    "    title=\"PCA projection of feature vector in last hidden layer\\nMedium GPT-2 variation (345M), top-k sampling (k=40)\",\n",
    "    output=\"pca_projection_gpt2_baseline_medium_k40_sample.png\"\n",
    ")"
   ]
  },
  {
   "cell_type": "code",
   "execution_count": null,
   "metadata": {
    "collapsed": false
   },
   "outputs": [],
   "source": [
    "pca_analysis(\n",
    "    large_result_topk,\n",
    "    title=\"PCA projection of feature vector in last hidden layer\\nLarge GPT-2 variation (762M), top-k sampling (k=40)\",\n",
    "    output=\"pca_projection_gpt2_baseline_large_k40_sample.png\"\n",
    ")"
   ]
  },
  {
   "cell_type": "code",
   "execution_count": null,
   "metadata": {
    "collapsed": false
   },
   "outputs": [],
   "source": [
    "pca_analysis(\n",
    "    xlarge_result_topk,\n",
    "    title=\"PCA projection of feature vector in last hidden layer\\nExtra large GPT-2 variation (1542M), top-k sampling (k=40)\",\n",
    "    output=\"pca_projection_gpt2_baseline_xlarge_k40_sample.png\"\n",
    ")"
   ]
  },
  {
   "cell_type": "markdown",
   "metadata": {
    "collapsed": false
   },
   "source": [
    "### PCA Analysis(2) - Random Sampling Evaluation\n",
    "\n",
    "First, we want to load back our random sample datasets"
   ]
  },
  {
   "cell_type": "code",
   "execution_count": null,
   "metadata": {
    "collapsed": false
   },
   "outputs": [],
   "source": [
    "small_hidden_path_rand  = Path(projectDirectory, \"result\", \"cache\", \"small_hidden_state_rand.pt\" )\n",
    "medium_hidden_path_rand = Path(projectDirectory, \"result\", \"cache\", \"medium_hidden_state_rand.pt\")\n",
    "large_hidden_path_rand  = Path(projectDirectory, \"result\", \"cache\", \"large_hidden_state_rand.pt\" )\n",
    "xlarge_hidden_path_rand = Path(projectDirectory, \"result\", \"cache\", \"xlarge_hidden_state_rand.pt\")\n",
    "\n",
    "small_result_rand  = calculate_hidden_state(small_dataset_rand , small_hidden_path_rand , indices_path)\n",
    "medium_result_rand = calculate_hidden_state(medium_dataset_rand, medium_hidden_path_rand, indices_path)\n",
    "large_result_rand  = calculate_hidden_state(large_dataset_rand , large_hidden_path_rand , indices_path)\n",
    "xlarge_result_rand = calculate_hidden_state(extra_large_dataset_rand, xlarge_hidden_path_rand, indices_path)"
   ]
  },
  {
   "cell_type": "code",
   "execution_count": null,
   "metadata": {
    "collapsed": false
   },
   "outputs": [],
   "source": [
    "pca_analysis(\n",
    "    small_result_rand,\n",
    "    title=\"PCA projection of feature vector in last hidden layer\\nSmall GPT-2 variation (117M), random sampling\",\n",
    "    output=\"pca_projection_gpt2_baseline_small_random_sample.png\"\n",
    ")"
   ]
  },
  {
   "cell_type": "code",
   "execution_count": null,
   "metadata": {
    "collapsed": false
   },
   "outputs": [],
   "source": [
    "pca_analysis(\n",
    "    medium_result_rand,\n",
    "    title=\"PCA projection of feature vector in last hidden layer\\nMedium GPT-2 variation (345M), random sampling\",\n",
    "    output=\"pca_projection_gpt2_baseline_medium_random_sample.png\"\n",
    ")"
   ]
  },
  {
   "cell_type": "code",
   "execution_count": null,
   "metadata": {
    "collapsed": false
   },
   "outputs": [],
   "source": [
    "pca_analysis(\n",
    "    large_result_rand,\n",
    "    title=\"PCA projection of feature vector in last hidden layer\\nLarge GPT-2 variation (762M), random sampling\",\n",
    "    output=\"pca_projection_gpt2_baseline_large_random_sample.png\"\n",
    ")"
   ]
  },
  {
   "cell_type": "code",
   "execution_count": null,
   "metadata": {
    "collapsed": false
   },
   "outputs": [],
   "source": [
    "pca_analysis(\n",
    "    xlarge_result_rand,\n",
    "    title=\"PCA projection of feature vector in last hidden layer\\nExtra large GPT-2 variation (1542M), random sampling\",\n",
    "    output=\"pca_projection_gpt2_baseline_xlarge_random_sample.png\"\n",
    ")"
   ]
  },
  {
   "cell_type": "markdown",
   "metadata": {
    "collapsed": false
   },
   "source": [
    "### Text Sampling\n",
    "\n",
    "Noticing that there is a cluster of GPT2 Generated text in the figure above, I wonder what are the commonality between all those samples ...\n",
    "\n",
    "Explore what are the typical \"Machine Generated\" Text for the GPT-2 classifier"
   ]
  },
  {
   "cell_type": "code",
   "execution_count": null,
   "metadata": {
    "collapsed": false
   },
   "outputs": [],
   "source": [
    "def draw_sample(dataset, result, indices_path, index, pca_core, fromHuman, title=\"\"):\n",
    "    assert indices_path.exists()\n",
    "    real_hidden: np.ndarray = result[\"real_hidden\"]\n",
    "    fake_hidden: np.ndarray = result[\"fake_hidden\"]\n",
    "    real_hidden = np.reshape(real_hidden, (real_hidden.shape[0], -1))\n",
    "    fake_hidden = np.reshape(fake_hidden, (fake_hidden.shape[0], -1))\n",
    "\n",
    "    indices = torch.load(indices_path)\n",
    "    if fromHuman:\n",
    "        selected = real_hidden[index:index + 1]\n",
    "        dataset_idx = indices[\"human_indices\"][index]\n",
    "    else:\n",
    "        selected = fake_hidden[index:index + 1]\n",
    "        dataset_idx = indices[\"gpt_indices\"][index]\n",
    "\n",
    "    small_real_pca = pca_core.transform(real_hidden)\n",
    "    small_fake_pca = pca_core.transform(fake_hidden)\n",
    "\n",
    "    selected_pca = pca_core.transform(selected)\n",
    "\n",
    "    plt.figure(dpi=200)\n",
    "    plt.title(title)\n",
    "    plt.scatter(small_real_pca[:, 0], small_real_pca[:, 1], label=\"Human Generated Text\", s=1)\n",
    "    plt.scatter(small_fake_pca[:, 0], small_fake_pca[:, 1], label=\"GPT2 Generated Text\" , s=1)\n",
    "    plt.scatter(selected_pca[:, 0], selected_pca[:, 1], s=50, c=\"red\", marker='x', label=\"Selected Human Sample\" if fromHuman else \"Selected GPT Sample\")\n",
    "    plt.legend()\n",
    "    plt.show()\n",
    "\n",
    "    print(dataset[dataset_idx][0])\n"
   ]
  },
  {
   "cell_type": "markdown",
   "metadata": {
    "collapsed": false
   },
   "source": [
    "#### Observation 1. Suprisingly, Long Text is kinda easy to clasify"
   ]
  },
  {
   "cell_type": "code",
   "execution_count": null,
   "metadata": {
    "collapsed": false
   },
   "outputs": [],
   "source": [
    "draw_sample(small_dataset_rand, small_result_rand, indices_path, 10, pca_analysis.core, False, title=\"Sample from GPT2-small (117M), with random sampling (1)\")"
   ]
  },
  {
   "cell_type": "markdown",
   "metadata": {
    "collapsed": false
   },
   "source": [
    "#### Observation 2: Short text is really hard to clasify!"
   ]
  },
  {
   "cell_type": "code",
   "execution_count": null,
   "metadata": {
    "collapsed": false
   },
   "outputs": [],
   "source": [
    "draw_sample(small_dataset_rand, small_result_rand, indices_path, 199, pca_analysis.core, False, title=\"Sample from GPT2-small (117M), with random sampling (2)\")"
   ]
  },
  {
   "cell_type": "markdown",
   "metadata": {
    "collapsed": false
   },
   "source": [
    "#### Observation 3. More Parameter generates more \"Natural\" Text"
   ]
  },
  {
   "cell_type": "code",
   "execution_count": null,
   "metadata": {
    "collapsed": false
   },
   "outputs": [],
   "source": [
    "draw_sample(extra_large_dataset_rand, xlarge_result_rand, indices_path, 10, pca_analysis.core, False, title=\"Sample from GPT2-exrra-large (1542M), with random sampling (1)\")"
   ]
  },
  {
   "cell_type": "markdown",
   "metadata": {
    "collapsed": false
   },
   "source": [
    "## TODO\n",
    "\n",
    "Maybe we can trace several specific sample and plot their trace in PCA projected space in a plot and see how things get blended as the number of parameters increases"
   ]
  }
 ],
 "metadata": {
  "kernelspec": {
   "display_name": "Python 3",
   "language": "python",
   "name": "python3"
  },
  "language_info": {
   "codemirror_mode": {
    "name": "ipython",
    "version": 3
   },
   "file_extension": ".py",
   "mimetype": "text/x-python",
   "name": "python",
   "nbconvert_exporter": "python",
   "pygments_lexer": "ipython3",
   "version": "3.8.16"
  }
 },
 "nbformat": 4,
 "nbformat_minor": 0
}
